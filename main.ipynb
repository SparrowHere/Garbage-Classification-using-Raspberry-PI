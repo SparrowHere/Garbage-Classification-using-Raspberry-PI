{
 "cells": [
  {
   "cell_type": "code",
   "execution_count": 9,
   "metadata": {},
   "outputs": [],
   "source": [
    "import os\n",
    "import cv2\n",
    "import numpy as np\n",
    "import tensorflow as tf"
   ]
  },
  {
   "cell_type": "code",
   "execution_count": 10,
   "metadata": {},
   "outputs": [
    {
     "data": {
      "text/plain": [
       "True"
      ]
     },
     "execution_count": 10,
     "metadata": {},
     "output_type": "execute_result"
    }
   ],
   "source": [
    "# Model dosyasının yolu\n",
    "MODEL_PATH = os.getcwd() + \"\\model.tflite\"\n",
    "\n",
    "# Sınıf etiketleri\n",
    "LABELS = ['No Bottle', 'Plastic', 'Paper', 'Glass', 'Metal']\n",
    "\n",
    "# Girdi görüntüsünün boyutları\n",
    "INPUT_SIZE = (224, 224)\n",
    "\n",
    "# Modeli yükleme\n",
    "interpreter = tf.lite.Interpreter(model_path = MODEL_PATH)\n",
    "interpreter.allocate_tensors()\n",
    "\n",
    "# Girdi ve çıktı tensorlarını alma\n",
    "input_details = interpreter.get_input_details()\n",
    "output_details = interpreter.get_output_details()\n",
    "\n",
    "# Kamera ayarları\n",
    "cam = cv2.VideoCapture(0)\n",
    "cam.set(cv2.CAP_PROP_FRAME_WIDTH, 640)\n",
    "cam.set(cv2.CAP_PROP_FRAME_HEIGHT, 480)"
   ]
  },
  {
   "cell_type": "code",
   "execution_count": 11,
   "metadata": {},
   "outputs": [],
   "source": [
    "while True:\n",
    "    # Kameradan bir görüntü alma\n",
    "    ret, frame = cam.read()\n",
    "\n",
    "    # Girdi görüntüsünü model için uygun boyuta getirme ve normalizasyon\n",
    "    img = cv2.resize(frame, INPUT_SIZE)\n",
    "    img = img / 255.0\n",
    "    img = np.expand_dims(img, axis = 0)\n",
    "    img = img.astype(np.float32)\n",
    "\n",
    "    # Girdi tensorunu modelde çalıştırma\n",
    "    interpreter.set_tensor(input_details[0]['index'], img)\n",
    "    interpreter.invoke()\n",
    "\n",
    "    # Çıktı tensorunu alma ve sınıf etiketini bulma\n",
    "    output = interpreter.get_tensor(output_details[0]['index'])\n",
    "    label_idx = np.argmax(output)\n",
    "    text = LABELS[label_idx] + f\" ({output[0][label_idx] * 100:.2f}%)\"\n",
    "\n",
    "    # Görüntüye sınıf etiketini ekleme\n",
    "    cv2.putText(frame, text, (10, 30), cv2.FONT_HERSHEY_SIMPLEX, 1, (0, 255, 0), 2)\n",
    "\n",
    "    # Görüntüyü gösterme\n",
    "    cv2.imshow('Classification', frame)\n",
    "\n",
    "    # Çıkış tuşuna basıldığında programı sonlandırma\n",
    "    if cv2.waitKey(1) == ord('q'):\n",
    "        break\n",
    "\n",
    "# Temizleme\n",
    "cam.release()\n",
    "cv2.destroyAllWindows()"
   ]
  }
 ],
 "metadata": {
  "kernelspec": {
   "display_name": "raspenv",
   "language": "python",
   "name": "python3"
  },
  "language_info": {
   "codemirror_mode": {
    "name": "ipython",
    "version": 3
   },
   "file_extension": ".py",
   "mimetype": "text/x-python",
   "name": "python",
   "nbconvert_exporter": "python",
   "pygments_lexer": "ipython3",
   "version": "3.9.16"
  },
  "orig_nbformat": 4
 },
 "nbformat": 4,
 "nbformat_minor": 2
}
