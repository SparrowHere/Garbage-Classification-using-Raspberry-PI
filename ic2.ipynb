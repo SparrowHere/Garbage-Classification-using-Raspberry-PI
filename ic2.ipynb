{
 "cells": [
  {
   "cell_type": "code",
   "execution_count": 1,
   "metadata": {},
   "outputs": [
    {
     "ename": "ModuleNotFoundError",
     "evalue": "No module named 'smbus2'",
     "output_type": "error",
     "traceback": [
      "\u001b[1;31m---------------------------------------------------------------------------\u001b[0m",
      "\u001b[1;31mModuleNotFoundError\u001b[0m                       Traceback (most recent call last)",
      "Cell \u001b[1;32mIn[1], line 1\u001b[0m\n\u001b[1;32m----> 1\u001b[0m \u001b[39mfrom\u001b[39;00m \u001b[39msmbus2\u001b[39;00m \u001b[39mimport\u001b[39;00m SMBus\n\u001b[0;32m      3\u001b[0m \u001b[39m# I2C cihazının adresi\u001b[39;00m\n\u001b[0;32m      4\u001b[0m DEVICE_ADDRESS \u001b[39m=\u001b[39m \u001b[39m0x27\u001b[39m \n",
      "\u001b[1;31mModuleNotFoundError\u001b[0m: No module named 'smbus2'"
     ]
    }
   ],
   "source": [
    "from smbus2 import SMBus\n",
    "\n",
    "# I2C cihazının adresi\n",
    "DEVICE_ADDRESS = 0x27 \n",
    "\n",
    "# I2C kanal numarası\n",
    "CHANNEL = 1 \n",
    "\n",
    "# smbus nesnesi oluştur\n",
    "bus = smbus.SMBus(CHANNEL)\n",
    "\n",
    "# I2C modülüne veri gönder\n",
    "bus.write_byte(DEVICE_ADDRESS, 0x01)"
   ]
  }
 ],
 "metadata": {
  "kernelspec": {
   "display_name": "raspenv",
   "language": "python",
   "name": "python3"
  },
  "language_info": {
   "codemirror_mode": {
    "name": "ipython",
    "version": 3
   },
   "file_extension": ".py",
   "mimetype": "text/x-python",
   "name": "python",
   "nbconvert_exporter": "python",
   "pygments_lexer": "ipython3",
   "version": "3.9.16"
  },
  "orig_nbformat": 4
 },
 "nbformat": 4,
 "nbformat_minor": 2
}
