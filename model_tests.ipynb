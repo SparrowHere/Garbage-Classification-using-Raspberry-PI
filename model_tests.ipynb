{
  "cells": [
    {
      "cell_type": "code",
      "execution_count": null,
      "metadata": {
        "notebookRunGroups": {
          "groupValue": "1"
        },
        "id": "s1mnZRjaLGNn"
      },
      "outputs": [],
      "source": [
        "import os\n",
        "import cv2\n",
        "import numpy as np\n",
        "import tensorflow as tf\n",
        "from tensorflow import keras\n",
        "import matplotlib.pyplot as plt\n",
        "import pandas as pd\n",
        "import seaborn as sns\n",
        "\n",
        "from keras import layers\n",
        "from keras.models import load_model\n",
        "from keras.preprocessing.image import ImageDataGenerator\n",
        "from keras.utils import image_dataset_from_directory\n",
        "from keras.applications import MobileNet\n",
        "from keras.regularizers import l2\n",
        "\n",
        "from sklearn.metrics import ConfusionMatrixDisplay\n",
        "from sklearn.metrics import confusion_matrix\n",
        "from sklearn.model_selection import train_test_split\n",
        "from sklearn.model_selection import GridSearchCV\n",
        "import keras_tuner\n",
        "from keras_tuner.tuners import GridSearch"
      ]
    },
    {
      "cell_type": "code",
      "source": [
        "from google.colab import drive\n",
        "drive.mount('/content/drive')"
      ],
      "metadata": {
        "id": "QYRS9s67LIs3",
        "outputId": "28e3ec2c-2fee-4b6b-c8c0-ef44d6592254",
        "colab": {
          "base_uri": "https://localhost:8080/"
        }
      },
      "execution_count": null,
      "outputs": [
        {
          "output_type": "stream",
          "name": "stdout",
          "text": [
            "Mounted at /content/drive\n"
          ]
        }
      ]
    },
    {
      "cell_type": "code",
      "source": [
        "!pip install tensorflow\n",
        "!pip install keras-tuner"
      ],
      "metadata": {
        "colab": {
          "base_uri": "https://localhost:8080/"
        },
        "id": "iUAPXajKLelb",
        "outputId": "923089ef-b7a5-490f-cf02-bf5ebe6a8395"
      },
      "execution_count": null,
      "outputs": [
        {
          "output_type": "stream",
          "name": "stdout",
          "text": [
            "Looking in indexes: https://pypi.org/simple, https://us-python.pkg.dev/colab-wheels/public/simple/\n",
            "Requirement already satisfied: tensorflow in /usr/local/lib/python3.10/dist-packages (2.12.0)\n",
            "Requirement already satisfied: absl-py>=1.0.0 in /usr/local/lib/python3.10/dist-packages (from tensorflow) (1.4.0)\n",
            "Requirement already satisfied: astunparse>=1.6.0 in /usr/local/lib/python3.10/dist-packages (from tensorflow) (1.6.3)\n",
            "Requirement already satisfied: flatbuffers>=2.0 in /usr/local/lib/python3.10/dist-packages (from tensorflow) (23.3.3)\n",
            "Requirement already satisfied: gast<=0.4.0,>=0.2.1 in /usr/local/lib/python3.10/dist-packages (from tensorflow) (0.4.0)\n",
            "Requirement already satisfied: google-pasta>=0.1.1 in /usr/local/lib/python3.10/dist-packages (from tensorflow) (0.2.0)\n",
            "Requirement already satisfied: grpcio<2.0,>=1.24.3 in /usr/local/lib/python3.10/dist-packages (from tensorflow) (1.54.0)\n",
            "Requirement already satisfied: h5py>=2.9.0 in /usr/local/lib/python3.10/dist-packages (from tensorflow) (3.8.0)\n",
            "Requirement already satisfied: jax>=0.3.15 in /usr/local/lib/python3.10/dist-packages (from tensorflow) (0.4.10)\n",
            "Requirement already satisfied: keras<2.13,>=2.12.0 in /usr/local/lib/python3.10/dist-packages (from tensorflow) (2.12.0)\n",
            "Requirement already satisfied: libclang>=13.0.0 in /usr/local/lib/python3.10/dist-packages (from tensorflow) (16.0.0)\n",
            "Requirement already satisfied: numpy<1.24,>=1.22 in /usr/local/lib/python3.10/dist-packages (from tensorflow) (1.22.4)\n",
            "Requirement already satisfied: opt-einsum>=2.3.2 in /usr/local/lib/python3.10/dist-packages (from tensorflow) (3.3.0)\n",
            "Requirement already satisfied: packaging in /usr/local/lib/python3.10/dist-packages (from tensorflow) (23.1)\n",
            "Requirement already satisfied: protobuf!=4.21.0,!=4.21.1,!=4.21.2,!=4.21.3,!=4.21.4,!=4.21.5,<5.0.0dev,>=3.20.3 in /usr/local/lib/python3.10/dist-packages (from tensorflow) (3.20.3)\n",
            "Requirement already satisfied: setuptools in /usr/local/lib/python3.10/dist-packages (from tensorflow) (67.7.2)\n",
            "Requirement already satisfied: six>=1.12.0 in /usr/local/lib/python3.10/dist-packages (from tensorflow) (1.16.0)\n",
            "Requirement already satisfied: tensorboard<2.13,>=2.12 in /usr/local/lib/python3.10/dist-packages (from tensorflow) (2.12.2)\n",
            "Requirement already satisfied: tensorflow-estimator<2.13,>=2.12.0 in /usr/local/lib/python3.10/dist-packages (from tensorflow) (2.12.0)\n",
            "Requirement already satisfied: termcolor>=1.1.0 in /usr/local/lib/python3.10/dist-packages (from tensorflow) (2.3.0)\n",
            "Requirement already satisfied: typing-extensions>=3.6.6 in /usr/local/lib/python3.10/dist-packages (from tensorflow) (4.5.0)\n",
            "Requirement already satisfied: wrapt<1.15,>=1.11.0 in /usr/local/lib/python3.10/dist-packages (from tensorflow) (1.14.1)\n",
            "Requirement already satisfied: tensorflow-io-gcs-filesystem>=0.23.1 in /usr/local/lib/python3.10/dist-packages (from tensorflow) (0.32.0)\n",
            "Requirement already satisfied: wheel<1.0,>=0.23.0 in /usr/local/lib/python3.10/dist-packages (from astunparse>=1.6.0->tensorflow) (0.40.0)\n",
            "Requirement already satisfied: ml-dtypes>=0.1.0 in /usr/local/lib/python3.10/dist-packages (from jax>=0.3.15->tensorflow) (0.1.0)\n",
            "Requirement already satisfied: scipy>=1.7 in /usr/local/lib/python3.10/dist-packages (from jax>=0.3.15->tensorflow) (1.10.1)\n",
            "Requirement already satisfied: google-auth<3,>=1.6.3 in /usr/local/lib/python3.10/dist-packages (from tensorboard<2.13,>=2.12->tensorflow) (2.17.3)\n",
            "Requirement already satisfied: google-auth-oauthlib<1.1,>=0.5 in /usr/local/lib/python3.10/dist-packages (from tensorboard<2.13,>=2.12->tensorflow) (1.0.0)\n",
            "Requirement already satisfied: markdown>=2.6.8 in /usr/local/lib/python3.10/dist-packages (from tensorboard<2.13,>=2.12->tensorflow) (3.4.3)\n",
            "Requirement already satisfied: requests<3,>=2.21.0 in /usr/local/lib/python3.10/dist-packages (from tensorboard<2.13,>=2.12->tensorflow) (2.27.1)\n",
            "Requirement already satisfied: tensorboard-data-server<0.8.0,>=0.7.0 in /usr/local/lib/python3.10/dist-packages (from tensorboard<2.13,>=2.12->tensorflow) (0.7.0)\n",
            "Requirement already satisfied: tensorboard-plugin-wit>=1.6.0 in /usr/local/lib/python3.10/dist-packages (from tensorboard<2.13,>=2.12->tensorflow) (1.8.1)\n",
            "Requirement already satisfied: werkzeug>=1.0.1 in /usr/local/lib/python3.10/dist-packages (from tensorboard<2.13,>=2.12->tensorflow) (2.3.0)\n",
            "Requirement already satisfied: cachetools<6.0,>=2.0.0 in /usr/local/lib/python3.10/dist-packages (from google-auth<3,>=1.6.3->tensorboard<2.13,>=2.12->tensorflow) (5.3.0)\n",
            "Requirement already satisfied: pyasn1-modules>=0.2.1 in /usr/local/lib/python3.10/dist-packages (from google-auth<3,>=1.6.3->tensorboard<2.13,>=2.12->tensorflow) (0.3.0)\n",
            "Requirement already satisfied: rsa<5,>=3.1.4 in /usr/local/lib/python3.10/dist-packages (from google-auth<3,>=1.6.3->tensorboard<2.13,>=2.12->tensorflow) (4.9)\n",
            "Requirement already satisfied: requests-oauthlib>=0.7.0 in /usr/local/lib/python3.10/dist-packages (from google-auth-oauthlib<1.1,>=0.5->tensorboard<2.13,>=2.12->tensorflow) (1.3.1)\n",
            "Requirement already satisfied: urllib3<1.27,>=1.21.1 in /usr/local/lib/python3.10/dist-packages (from requests<3,>=2.21.0->tensorboard<2.13,>=2.12->tensorflow) (1.26.15)\n",
            "Requirement already satisfied: certifi>=2017.4.17 in /usr/local/lib/python3.10/dist-packages (from requests<3,>=2.21.0->tensorboard<2.13,>=2.12->tensorflow) (2022.12.7)\n",
            "Requirement already satisfied: charset-normalizer~=2.0.0 in /usr/local/lib/python3.10/dist-packages (from requests<3,>=2.21.0->tensorboard<2.13,>=2.12->tensorflow) (2.0.12)\n",
            "Requirement already satisfied: idna<4,>=2.5 in /usr/local/lib/python3.10/dist-packages (from requests<3,>=2.21.0->tensorboard<2.13,>=2.12->tensorflow) (3.4)\n",
            "Requirement already satisfied: MarkupSafe>=2.1.1 in /usr/local/lib/python3.10/dist-packages (from werkzeug>=1.0.1->tensorboard<2.13,>=2.12->tensorflow) (2.1.2)\n",
            "Requirement already satisfied: pyasn1<0.6.0,>=0.4.6 in /usr/local/lib/python3.10/dist-packages (from pyasn1-modules>=0.2.1->google-auth<3,>=1.6.3->tensorboard<2.13,>=2.12->tensorflow) (0.5.0)\n",
            "Requirement already satisfied: oauthlib>=3.0.0 in /usr/local/lib/python3.10/dist-packages (from requests-oauthlib>=0.7.0->google-auth-oauthlib<1.1,>=0.5->tensorboard<2.13,>=2.12->tensorflow) (3.2.2)\n",
            "Looking in indexes: https://pypi.org/simple, https://us-python.pkg.dev/colab-wheels/public/simple/\n",
            "Collecting keras-tuner\n",
            "  Downloading keras_tuner-1.3.5-py3-none-any.whl (176 kB)\n",
            "\u001b[2K     \u001b[90m━━━━━━━━━━━━━━━━━━━━━━━━━━━━━━━━━━━━━━━\u001b[0m \u001b[32m176.1/176.1 kB\u001b[0m \u001b[31m9.4 MB/s\u001b[0m eta \u001b[36m0:00:00\u001b[0m\n",
            "\u001b[?25hRequirement already satisfied: packaging in /usr/local/lib/python3.10/dist-packages (from keras-tuner) (23.1)\n",
            "Requirement already satisfied: requests in /usr/local/lib/python3.10/dist-packages (from keras-tuner) (2.27.1)\n",
            "Collecting kt-legacy (from keras-tuner)\n",
            "  Downloading kt_legacy-1.0.5-py3-none-any.whl (9.6 kB)\n",
            "Requirement already satisfied: urllib3<1.27,>=1.21.1 in /usr/local/lib/python3.10/dist-packages (from requests->keras-tuner) (1.26.15)\n",
            "Requirement already satisfied: certifi>=2017.4.17 in /usr/local/lib/python3.10/dist-packages (from requests->keras-tuner) (2022.12.7)\n",
            "Requirement already satisfied: charset-normalizer~=2.0.0 in /usr/local/lib/python3.10/dist-packages (from requests->keras-tuner) (2.0.12)\n",
            "Requirement already satisfied: idna<4,>=2.5 in /usr/local/lib/python3.10/dist-packages (from requests->keras-tuner) (3.4)\n",
            "Installing collected packages: kt-legacy, keras-tuner\n",
            "Successfully installed keras-tuner-1.3.5 kt-legacy-1.0.5\n"
          ]
        }
      ]
    },
    {
      "cell_type": "code",
      "source": [
        "!nvidia-smi"
      ],
      "metadata": {
        "colab": {
          "base_uri": "https://localhost:8080/"
        },
        "id": "KJbdchTXLeYD",
        "outputId": "2b704b42-edf4-4405-b87c-dbbc2a2e9dc2"
      },
      "execution_count": null,
      "outputs": [
        {
          "output_type": "stream",
          "name": "stdout",
          "text": [
            "Fri May 26 07:14:33 2023       \n",
            "+-----------------------------------------------------------------------------+\n",
            "| NVIDIA-SMI 525.85.12    Driver Version: 525.85.12    CUDA Version: 12.0     |\n",
            "|-------------------------------+----------------------+----------------------+\n",
            "| GPU  Name        Persistence-M| Bus-Id        Disp.A | Volatile Uncorr. ECC |\n",
            "| Fan  Temp  Perf  Pwr:Usage/Cap|         Memory-Usage | GPU-Util  Compute M. |\n",
            "|                               |                      |               MIG M. |\n",
            "|===============================+======================+======================|\n",
            "|   0  Tesla T4            Off  | 00000000:00:04.0 Off |                    0 |\n",
            "| N/A   64C    P8    11W /  70W |      0MiB / 15360MiB |      0%      Default |\n",
            "|                               |                      |                  N/A |\n",
            "+-------------------------------+----------------------+----------------------+\n",
            "                                                                               \n",
            "+-----------------------------------------------------------------------------+\n",
            "| Processes:                                                                  |\n",
            "|  GPU   GI   CI        PID   Type   Process name                  GPU Memory |\n",
            "|        ID   ID                                                   Usage      |\n",
            "|=============================================================================|\n",
            "|  No running processes found                                                 |\n",
            "+-----------------------------------------------------------------------------+\n"
          ]
        }
      ]
    },
    {
      "cell_type": "code",
      "execution_count": null,
      "metadata": {
        "notebookRunGroups": {
          "groupValue": "1"
        },
        "id": "PlXJCSUaLGNp",
        "outputId": "0cb43a1a-3dec-4644-9f1d-f74a086c37cb",
        "colab": {
          "base_uri": "https://localhost:8080/"
        }
      },
      "outputs": [
        {
          "output_type": "stream",
          "name": "stdout",
          "text": [
            "Num GPUs Available:  1\n"
          ]
        }
      ],
      "source": [
        "print(\"Num GPUs Available: \", len(tf.config.list_physical_devices(\"GPU\")))"
      ]
    },
    {
      "cell_type": "code",
      "source": [
        "PATH = \"/content/drive/MyDrive/Datasets/Garbage_Classification\"\n",
        "\n",
        "DATASET = image_dataset_from_directory(\n",
        "    PATH,\n",
        "    labels = \"inferred\",\n",
        "    label_mode = \"categorical\",\n",
        "    batch_size = 16,\n",
        "    image_size = (224, 224),\n",
        "    seed = 42,\n",
        "    shuffle = True\n",
        ")"
      ],
      "metadata": {
        "colab": {
          "base_uri": "https://localhost:8080/"
        },
        "id": "IjkoxwnTbY2H",
        "outputId": "54df020a-e7a9-4e93-bf4e-a3ae110a88d0"
      },
      "execution_count": null,
      "outputs": [
        {
          "output_type": "stream",
          "name": "stdout",
          "text": [
            "Found 1393 files belonging to 3 classes.\n"
          ]
        }
      ]
    },
    {
      "cell_type": "code",
      "source": [
        "print(f\"Number of classes in the dataset: {len(DATASET.class_names)}\")\n",
        "\n",
        "# Sampling the Subsets\n",
        "TOTAL_S = DATASET.cardinality().numpy()\n",
        "TRAIN_S = int(0.7 * TOTAL_S)  # 70% for train\n",
        "TEST_S = int(0.15 * TOTAL_S)   # 15% for test\n",
        "VAL_S = TOTAL_S - TRAIN_S - TEST_S  # %15 for validation\n",
        "\n",
        "AUTOTUNE = tf.data.AUTOTUNE\n",
        "TRAIN = DATASET.take(TRAIN_S).prefetch(buffer_size = AUTOTUNE)\n",
        "TEST = DATASET.skip(TRAIN_S).take(TEST_S).prefetch(buffer_size = AUTOTUNE)\n",
        "VAL = DATASET.skip(TRAIN_S + TEST_S).take(VAL_S).prefetch(buffer_size = AUTOTUNE)"
      ],
      "metadata": {
        "colab": {
          "base_uri": "https://localhost:8080/"
        },
        "id": "ymOdejCJybEH",
        "outputId": "0a7bf8de-5587-4ae0-ca28-b91f3ffa063b"
      },
      "execution_count": null,
      "outputs": [
        {
          "output_type": "stream",
          "name": "stdout",
          "text": [
            "Number of classes in the dataset: 3\n"
          ]
        }
      ]
    },
    {
      "cell_type": "code",
      "source": [
        "# Model-Building\n",
        "INPUT_SHAPE = (224, 224, 3)\n",
        "ACTIVATION = \"sigmoid\"\n",
        "\n",
        "DATA_GEN_LAYER = keras.Sequential(\n",
        "  [\n",
        "    layers.RandomFlip(\"horizontal\", input_shape = INPUT_SHAPE),\n",
        "    layers.RandomRotation(0.2),\n",
        "    layers.RandomZoom(0.2),\n",
        "    layers.RandomContrast(0.2),\n",
        "    layers.RandomBrightness(0.2)\n",
        "  ]\n",
        ")\n",
        "\n",
        "\n",
        "# Building the Custom Model Architecture\n",
        "def buildModel(HP):\n",
        "    MODEL = keras.Sequential()\n",
        "    MODEL.add(DATA_GEN_LAYER)\n",
        "    \n",
        "    BASE = MobileNet(weights = \"imagenet\", include_top = False, input_shape = INPUT_SHAPE)\n",
        "    BASE.trainable = False\n",
        "    \n",
        "    MODEL.add(BASE)\n",
        "    MODEL.add(layers.GlobalAveragePooling2D())\n",
        "    MODEL.add(layers.Dense(64, activation = \"relu\"))\n",
        "    MODEL.add(layers.Dropout(0.25))\n",
        "    MODEL.add(layers.Dense(3, activation = ACTIVATION))\n",
        "    \n",
        "    # Hyperparameter grid\n",
        "    LEARNING_RATE = HP.Choice(\"learning_rate\", [0.001, 0.01, 0.1])\n",
        "    OPTIMIZER = HP.Choice(\"optimizer\", [\"adam\", \"rmsprop\",\"sgd\"])\n",
        "    EPOCH = HP.Choice(\"epoch\", [50, 100, 150, 200, 250])\n",
        "    BATCH_SIZE = HP.Choice(\"batch_size\", [16, 32, 64])\n",
        "    \n",
        "    # Compiling the model\n",
        "    MODEL.compile(optimizer = OPTIMIZER,\n",
        "                  loss = \"categorical_crossentropy\",\n",
        "                  metrics = [\"accuracy\"])\n",
        "    \n",
        "    return MODEL"
      ],
      "metadata": {
        "id": "kJO5vQqoMu6P"
      },
      "execution_count": null,
      "outputs": []
    },
    {
      "cell_type": "code",
      "execution_count": null,
      "metadata": {
        "notebookRunGroups": {
          "groupValue": "1"
        },
        "id": "Eh0vWaF9LGNu",
        "colab": {
          "base_uri": "https://localhost:8080/"
        },
        "outputId": "f447c064-cbf4-487c-ff69-8453f2553bb8"
      },
      "outputs": [
        {
          "output_type": "stream",
          "name": "stdout",
          "text": [
            "Trial 3 Complete [00h 01m 11s]\n",
            "val_accuracy: 0.6846473217010498\n",
            "\n",
            "Best val_accuracy So Far: 0.6929460763931274\n",
            "Total elapsed time: 00h 03m 54s\n"
          ]
        }
      ],
      "source": [
        "# Grid Search for the Best Hyper-Parameters\n",
        "\n",
        "TUNER = GridSearch(\n",
        "    hypermodel = buildModel,\n",
        "    objective = \"val_accuracy\",\n",
        "    max_trials = 3,\n",
        "    directory = \"/content/drive/MyDrive/Models\",\n",
        "    project_name = \"GCTuner_MODEL\",  # Garbage Classification Tuner\n",
        ")\n",
        "\n",
        "TUNER.search(\n",
        "    TRAIN,\n",
        "    validation_data = VAL,\n",
        "    epochs = 10,\n",
        "    verbose = 1,\n",
        ")"
      ]
    },
    {
      "cell_type": "code",
      "source": [
        "# Getting the Best Hyper-Parameter Values\n",
        "HP_BEST = TUNER.get_best_hyperparameters()[0]\n",
        "LR_BEST = HP_BEST.get(\"learning_rate\")\n",
        "EPOCH_BEST = HP_BEST.get(\"epoch\")\n",
        "BATCHS_B = HP_BEST.get(\"batch_size\")\n",
        "OPTIMIZER_BEST = HP_BEST.get(\"optimizer\")"
      ],
      "metadata": {
        "id": "mnkzpp3S9V6f"
      },
      "execution_count": null,
      "outputs": []
    },
    {
      "cell_type": "code",
      "source": [
        "# Table of Best Hyper-Parameter Values\n",
        "BESTHP_DF = pd.DataFrame(\n",
        "    {\n",
        "    \"Learning Rate\": [LR_BEST],\n",
        "    \"Epochs\": [EPOCH_BEST],\n",
        "    \"Batch Size\": [BATCHS_B],\n",
        "    \"Optimizer\": [OPTIMIZER_BEST],\n",
        "     },\n",
        "     index = [\"Results\"]\n",
        ")\n",
        "\n",
        "BESTHP_DF"
      ],
      "metadata": {
        "colab": {
          "base_uri": "https://localhost:8080/",
          "height": 81
        },
        "id": "vEhbou9s-7bB",
        "outputId": "3a01e345-6712-46b9-a072-9df7b0dac28c"
      },
      "execution_count": null,
      "outputs": [
        {
          "output_type": "execute_result",
          "data": {
            "text/plain": [
              "         Learning Rate  Epochs  Batch Size Optimizer\n",
              "Results          0.001      50          16      adam"
            ],
            "text/html": [
              "\n",
              "  <div id=\"df-599f0996-f9a7-4ad2-b48d-bede22fbb68c\">\n",
              "    <div class=\"colab-df-container\">\n",
              "      <div>\n",
              "<style scoped>\n",
              "    .dataframe tbody tr th:only-of-type {\n",
              "        vertical-align: middle;\n",
              "    }\n",
              "\n",
              "    .dataframe tbody tr th {\n",
              "        vertical-align: top;\n",
              "    }\n",
              "\n",
              "    .dataframe thead th {\n",
              "        text-align: right;\n",
              "    }\n",
              "</style>\n",
              "<table border=\"1\" class=\"dataframe\">\n",
              "  <thead>\n",
              "    <tr style=\"text-align: right;\">\n",
              "      <th></th>\n",
              "      <th>Learning Rate</th>\n",
              "      <th>Epochs</th>\n",
              "      <th>Batch Size</th>\n",
              "      <th>Optimizer</th>\n",
              "    </tr>\n",
              "  </thead>\n",
              "  <tbody>\n",
              "    <tr>\n",
              "      <th>Results</th>\n",
              "      <td>0.001</td>\n",
              "      <td>50</td>\n",
              "      <td>16</td>\n",
              "      <td>adam</td>\n",
              "    </tr>\n",
              "  </tbody>\n",
              "</table>\n",
              "</div>\n",
              "      <button class=\"colab-df-convert\" onclick=\"convertToInteractive('df-599f0996-f9a7-4ad2-b48d-bede22fbb68c')\"\n",
              "              title=\"Convert this dataframe to an interactive table.\"\n",
              "              style=\"display:none;\">\n",
              "        \n",
              "  <svg xmlns=\"http://www.w3.org/2000/svg\" height=\"24px\"viewBox=\"0 0 24 24\"\n",
              "       width=\"24px\">\n",
              "    <path d=\"M0 0h24v24H0V0z\" fill=\"none\"/>\n",
              "    <path d=\"M18.56 5.44l.94 2.06.94-2.06 2.06-.94-2.06-.94-.94-2.06-.94 2.06-2.06.94zm-11 1L8.5 8.5l.94-2.06 2.06-.94-2.06-.94L8.5 2.5l-.94 2.06-2.06.94zm10 10l.94 2.06.94-2.06 2.06-.94-2.06-.94-.94-2.06-.94 2.06-2.06.94z\"/><path d=\"M17.41 7.96l-1.37-1.37c-.4-.4-.92-.59-1.43-.59-.52 0-1.04.2-1.43.59L10.3 9.45l-7.72 7.72c-.78.78-.78 2.05 0 2.83L4 21.41c.39.39.9.59 1.41.59.51 0 1.02-.2 1.41-.59l7.78-7.78 2.81-2.81c.8-.78.8-2.07 0-2.86zM5.41 20L4 18.59l7.72-7.72 1.47 1.35L5.41 20z\"/>\n",
              "  </svg>\n",
              "      </button>\n",
              "      \n",
              "  <style>\n",
              "    .colab-df-container {\n",
              "      display:flex;\n",
              "      flex-wrap:wrap;\n",
              "      gap: 12px;\n",
              "    }\n",
              "\n",
              "    .colab-df-convert {\n",
              "      background-color: #E8F0FE;\n",
              "      border: none;\n",
              "      border-radius: 50%;\n",
              "      cursor: pointer;\n",
              "      display: none;\n",
              "      fill: #1967D2;\n",
              "      height: 32px;\n",
              "      padding: 0 0 0 0;\n",
              "      width: 32px;\n",
              "    }\n",
              "\n",
              "    .colab-df-convert:hover {\n",
              "      background-color: #E2EBFA;\n",
              "      box-shadow: 0px 1px 2px rgba(60, 64, 67, 0.3), 0px 1px 3px 1px rgba(60, 64, 67, 0.15);\n",
              "      fill: #174EA6;\n",
              "    }\n",
              "\n",
              "    [theme=dark] .colab-df-convert {\n",
              "      background-color: #3B4455;\n",
              "      fill: #D2E3FC;\n",
              "    }\n",
              "\n",
              "    [theme=dark] .colab-df-convert:hover {\n",
              "      background-color: #434B5C;\n",
              "      box-shadow: 0px 1px 3px 1px rgba(0, 0, 0, 0.15);\n",
              "      filter: drop-shadow(0px 1px 2px rgba(0, 0, 0, 0.3));\n",
              "      fill: #FFFFFF;\n",
              "    }\n",
              "  </style>\n",
              "\n",
              "      <script>\n",
              "        const buttonEl =\n",
              "          document.querySelector('#df-599f0996-f9a7-4ad2-b48d-bede22fbb68c button.colab-df-convert');\n",
              "        buttonEl.style.display =\n",
              "          google.colab.kernel.accessAllowed ? 'block' : 'none';\n",
              "\n",
              "        async function convertToInteractive(key) {\n",
              "          const element = document.querySelector('#df-599f0996-f9a7-4ad2-b48d-bede22fbb68c');\n",
              "          const dataTable =\n",
              "            await google.colab.kernel.invokeFunction('convertToInteractive',\n",
              "                                                     [key], {});\n",
              "          if (!dataTable) return;\n",
              "\n",
              "          const docLinkHtml = 'Like what you see? Visit the ' +\n",
              "            '<a target=\"_blank\" href=https://colab.research.google.com/notebooks/data_table.ipynb>data table notebook</a>'\n",
              "            + ' to learn more about interactive tables.';\n",
              "          element.innerHTML = '';\n",
              "          dataTable['output_type'] = 'display_data';\n",
              "          await google.colab.output.renderOutput(dataTable, element);\n",
              "          const docLink = document.createElement('div');\n",
              "          docLink.innerHTML = docLinkHtml;\n",
              "          element.appendChild(docLink);\n",
              "        }\n",
              "      </script>\n",
              "    </div>\n",
              "  </div>\n",
              "  "
            ]
          },
          "metadata": {},
          "execution_count": 109
        }
      ]
    },
    {
      "cell_type": "code",
      "execution_count": null,
      "metadata": {
        "notebookRunGroups": {
          "groupValue": "2"
        },
        "id": "0Wf84AWmLGNu",
        "colab": {
          "base_uri": "https://localhost:8080/"
        },
        "outputId": "e3d4cbba-6b90-4a89-faec-7b9ea629bdbc"
      },
      "outputs": [
        {
          "output_type": "stream",
          "name": "stdout",
          "text": [
            "Epoch 1/50\n",
            "30/30 [==============================] - 10s 228ms/step - loss: 1.1073 - accuracy: 0.4708 - val_loss: 0.9727 - val_accuracy: 0.5311\n",
            "Epoch 2/50\n",
            "30/30 [==============================] - 6s 169ms/step - loss: 0.9577 - accuracy: 0.5490 - val_loss: 0.8750 - val_accuracy: 0.6224\n",
            "Epoch 3/50\n",
            "30/30 [==============================] - 7s 219ms/step - loss: 0.8894 - accuracy: 0.5927 - val_loss: 0.8551 - val_accuracy: 0.6058\n",
            "Epoch 4/50\n",
            "30/30 [==============================] - 8s 250ms/step - loss: 0.8746 - accuracy: 0.5990 - val_loss: 0.8481 - val_accuracy: 0.6556\n",
            "Epoch 5/50\n",
            "30/30 [==============================] - 6s 174ms/step - loss: 0.8606 - accuracy: 0.6135 - val_loss: 0.8227 - val_accuracy: 0.6183\n",
            "Epoch 6/50\n",
            "30/30 [==============================] - 8s 250ms/step - loss: 0.8176 - accuracy: 0.6323 - val_loss: 0.8743 - val_accuracy: 0.6224\n",
            "Epoch 7/50\n",
            "30/30 [==============================] - 6s 172ms/step - loss: 0.8131 - accuracy: 0.6427 - val_loss: 0.7578 - val_accuracy: 0.6929\n",
            "Epoch 8/50\n",
            "30/30 [==============================] - 7s 209ms/step - loss: 0.7993 - accuracy: 0.6323 - val_loss: 0.8839 - val_accuracy: 0.5851\n",
            "Epoch 9/50\n",
            "30/30 [==============================] - 5s 166ms/step - loss: 0.7610 - accuracy: 0.6802 - val_loss: 0.7787 - val_accuracy: 0.6556\n",
            "Epoch 10/50\n",
            "30/30 [==============================] - 7s 214ms/step - loss: 0.8098 - accuracy: 0.6510 - val_loss: 0.7838 - val_accuracy: 0.6598\n",
            "Epoch 11/50\n",
            "30/30 [==============================] - 6s 171ms/step - loss: 0.7481 - accuracy: 0.6677 - val_loss: 0.7594 - val_accuracy: 0.6722\n",
            "Epoch 12/50\n",
            "30/30 [==============================] - 7s 215ms/step - loss: 0.7633 - accuracy: 0.6552 - val_loss: 0.7904 - val_accuracy: 0.6639\n",
            "Epoch 13/50\n",
            "30/30 [==============================] - 5s 168ms/step - loss: 0.7643 - accuracy: 0.6615 - val_loss: 0.7656 - val_accuracy: 0.6805\n",
            "Epoch 14/50\n",
            "30/30 [==============================] - 6s 192ms/step - loss: 0.7483 - accuracy: 0.6875 - val_loss: 0.7138 - val_accuracy: 0.6846\n",
            "Epoch 15/50\n",
            "30/30 [==============================] - 6s 171ms/step - loss: 0.6723 - accuracy: 0.7052 - val_loss: 0.7583 - val_accuracy: 0.6639\n",
            "Epoch 16/50\n",
            "30/30 [==============================] - 7s 214ms/step - loss: 0.7164 - accuracy: 0.6917 - val_loss: 0.7197 - val_accuracy: 0.6846\n",
            "Epoch 17/50\n",
            "30/30 [==============================] - 5s 168ms/step - loss: 0.7583 - accuracy: 0.6719 - val_loss: 0.7483 - val_accuracy: 0.6805\n",
            "Epoch 18/50\n",
            "30/30 [==============================] - 8s 259ms/step - loss: 0.7115 - accuracy: 0.6938 - val_loss: 0.7533 - val_accuracy: 0.6722\n",
            "Epoch 19/50\n",
            "30/30 [==============================] - 5s 169ms/step - loss: 0.6921 - accuracy: 0.7010 - val_loss: 0.7530 - val_accuracy: 0.6763\n",
            "Epoch 20/50\n",
            "30/30 [==============================] - 7s 215ms/step - loss: 0.6758 - accuracy: 0.7083 - val_loss: 0.7891 - val_accuracy: 0.6266\n",
            "Epoch 21/50\n",
            "30/30 [==============================] - 5s 168ms/step - loss: 0.7051 - accuracy: 0.6854 - val_loss: 0.7845 - val_accuracy: 0.6432\n",
            "Epoch 22/50\n",
            "30/30 [==============================] - 6s 201ms/step - loss: 0.7161 - accuracy: 0.6906 - val_loss: 0.7210 - val_accuracy: 0.6846\n",
            "Epoch 23/50\n",
            "30/30 [==============================] - 5s 166ms/step - loss: 0.7050 - accuracy: 0.6833 - val_loss: 0.7767 - val_accuracy: 0.6680\n",
            "Epoch 24/50\n",
            "30/30 [==============================] - 7s 216ms/step - loss: 0.6686 - accuracy: 0.7229 - val_loss: 0.6901 - val_accuracy: 0.7261\n",
            "Epoch 25/50\n",
            "30/30 [==============================] - 8s 251ms/step - loss: 0.6597 - accuracy: 0.7240 - val_loss: 0.6856 - val_accuracy: 0.6971\n",
            "Epoch 26/50\n",
            "30/30 [==============================] - 7s 218ms/step - loss: 0.6697 - accuracy: 0.7156 - val_loss: 0.7390 - val_accuracy: 0.6680\n",
            "Epoch 27/50\n",
            "30/30 [==============================] - 7s 206ms/step - loss: 0.6473 - accuracy: 0.7281 - val_loss: 0.6746 - val_accuracy: 0.6846\n",
            "Epoch 28/50\n",
            "30/30 [==============================] - 5s 169ms/step - loss: 0.6389 - accuracy: 0.7115 - val_loss: 0.7125 - val_accuracy: 0.6515\n",
            "Epoch 29/50\n",
            "30/30 [==============================] - 7s 227ms/step - loss: 0.6674 - accuracy: 0.7156 - val_loss: 0.7030 - val_accuracy: 0.7054\n",
            "Epoch 30/50\n",
            "30/30 [==============================] - 6s 171ms/step - loss: 0.6242 - accuracy: 0.7229 - val_loss: 0.6856 - val_accuracy: 0.7303\n",
            "Epoch 31/50\n",
            "30/30 [==============================] - 7s 215ms/step - loss: 0.6277 - accuracy: 0.7333 - val_loss: 0.6455 - val_accuracy: 0.7469\n",
            "Epoch 32/50\n",
            "30/30 [==============================] - 5s 166ms/step - loss: 0.6162 - accuracy: 0.7406 - val_loss: 0.6659 - val_accuracy: 0.7303\n",
            "Epoch 33/50\n",
            "30/30 [==============================] - 6s 193ms/step - loss: 0.6467 - accuracy: 0.7229 - val_loss: 0.6789 - val_accuracy: 0.7054\n",
            "Epoch 34/50\n",
            "30/30 [==============================] - 6s 177ms/step - loss: 0.6451 - accuracy: 0.7208 - val_loss: 0.6528 - val_accuracy: 0.7303\n",
            "Epoch 35/50\n",
            "30/30 [==============================] - 5s 167ms/step - loss: 0.6487 - accuracy: 0.7219 - val_loss: 0.6627 - val_accuracy: 0.7178\n",
            "Epoch 36/50\n",
            "30/30 [==============================] - 5s 165ms/step - loss: 0.6194 - accuracy: 0.7427 - val_loss: 0.6356 - val_accuracy: 0.7469\n",
            "Epoch 37/50\n",
            "30/30 [==============================] - 7s 217ms/step - loss: 0.6289 - accuracy: 0.7427 - val_loss: 0.6609 - val_accuracy: 0.7220\n",
            "Epoch 38/50\n",
            "30/30 [==============================] - 6s 171ms/step - loss: 0.6454 - accuracy: 0.7469 - val_loss: 0.6021 - val_accuracy: 0.7469\n",
            "Epoch 39/50\n",
            "30/30 [==============================] - 8s 253ms/step - loss: 0.6093 - accuracy: 0.7396 - val_loss: 0.6615 - val_accuracy: 0.7635\n",
            "Epoch 40/50\n",
            "30/30 [==============================] - 5s 167ms/step - loss: 0.5810 - accuracy: 0.7615 - val_loss: 0.6956 - val_accuracy: 0.7261\n",
            "Epoch 41/50\n",
            "30/30 [==============================] - 7s 218ms/step - loss: 0.6214 - accuracy: 0.7271 - val_loss: 0.6653 - val_accuracy: 0.7303\n",
            "Epoch 42/50\n",
            "30/30 [==============================] - 5s 170ms/step - loss: 0.6125 - accuracy: 0.7406 - val_loss: 0.6851 - val_accuracy: 0.7303\n",
            "Epoch 43/50\n",
            "30/30 [==============================] - 7s 213ms/step - loss: 0.6017 - accuracy: 0.7500 - val_loss: 0.6649 - val_accuracy: 0.7386\n",
            "Epoch 44/50\n",
            "30/30 [==============================] - 5s 170ms/step - loss: 0.5699 - accuracy: 0.7583 - val_loss: 0.5967 - val_accuracy: 0.7593\n",
            "Epoch 45/50\n",
            "30/30 [==============================] - 6s 188ms/step - loss: 0.5956 - accuracy: 0.7281 - val_loss: 0.6680 - val_accuracy: 0.7344\n",
            "Epoch 46/50\n",
            "30/30 [==============================] - 5s 169ms/step - loss: 0.5698 - accuracy: 0.7542 - val_loss: 0.7180 - val_accuracy: 0.7178\n",
            "Epoch 47/50\n",
            "30/30 [==============================] - 7s 219ms/step - loss: 0.6090 - accuracy: 0.7406 - val_loss: 0.6394 - val_accuracy: 0.7344\n",
            "Epoch 48/50\n",
            "30/30 [==============================] - 5s 170ms/step - loss: 0.5763 - accuracy: 0.7521 - val_loss: 0.6591 - val_accuracy: 0.7386\n",
            "Epoch 49/50\n",
            "30/30 [==============================] - 7s 220ms/step - loss: 0.5814 - accuracy: 0.7594 - val_loss: 0.6630 - val_accuracy: 0.7178\n",
            "Epoch 50/50\n",
            "30/30 [==============================] - 5s 169ms/step - loss: 0.5959 - accuracy: 0.7479 - val_loss: 0.6301 - val_accuracy: 0.7593\n"
          ]
        }
      ],
      "source": [
        "# Model Training\n",
        "MODEL = buildModel(HP_BEST)\n",
        "\n",
        "HISTORY = MODEL.fit(\n",
        "    TRAIN,\n",
        "    batch_size = BATCHS_B,\n",
        "    epochs = EPOCH_BEST,\n",
        "    validation_data = VAL,\n",
        ")"
      ]
    },
    {
      "cell_type": "code",
      "source": [
        "MODEL.summary()"
      ],
      "metadata": {
        "colab": {
          "base_uri": "https://localhost:8080/"
        },
        "id": "LskWjIGvgPr9",
        "outputId": "5bcc2f86-9df6-4a19-b8f8-d8b24d0cdf6d"
      },
      "execution_count": null,
      "outputs": [
        {
          "output_type": "stream",
          "name": "stdout",
          "text": [
            "Model: \"sequential_1\"\n",
            "_________________________________________________________________\n",
            " Layer (type)                Output Shape              Param #   \n",
            "=================================================================\n",
            " sequential_9 (Sequential)   (None, 224, 224, 3)       0         \n",
            "                                                                 \n",
            " mobilenet_1.00_224 (Functio  (None, 7, 7, 1024)       3228864   \n",
            " nal)                                                            \n",
            "                                                                 \n",
            " global_average_pooling2d_1   (None, 1024)             0         \n",
            " (GlobalAveragePooling2D)                                        \n",
            "                                                                 \n",
            " dense_2 (Dense)             (None, 64)                65600     \n",
            "                                                                 \n",
            " dropout_1 (Dropout)         (None, 64)                0         \n",
            "                                                                 \n",
            " dense_3 (Dense)             (None, 3)                 195       \n",
            "                                                                 \n",
            "=================================================================\n",
            "Total params: 3,294,659\n",
            "Trainable params: 65,795\n",
            "Non-trainable params: 3,228,864\n",
            "_________________________________________________________________\n"
          ]
        }
      ]
    },
    {
      "cell_type": "code",
      "execution_count": null,
      "metadata": {
        "notebookRunGroups": {
          "groupValue": "2"
        },
        "id": "OP-Llz9oLGNv",
        "outputId": "63a7739c-6c0c-4204-8f23-16eafd14a10e",
        "colab": {
          "base_uri": "https://localhost:8080/"
        }
      },
      "outputs": [
        {
          "output_type": "execute_result",
          "data": {
            "text/plain": [
              "dict_keys(['loss', 'accuracy', 'val_loss', 'val_accuracy'])"
            ]
          },
          "metadata": {},
          "execution_count": 111
        }
      ],
      "source": [
        "HISTORY.history.keys()"
      ]
    },
    {
      "cell_type": "code",
      "source": [
        "MODEL.save(\"/content/drive/MyDrive/Models/MODEL.h5\")"
      ],
      "metadata": {
        "id": "9PumNO_vO8ON"
      },
      "execution_count": null,
      "outputs": []
    },
    {
      "cell_type": "code",
      "source": [
        "# Extracting Labels for TEST Set\n",
        "TRUE_LABELS = []\n",
        "IMAGES = []\n",
        "\n",
        "for _, LABELS in TEST:\n",
        "  LABELS_IDX = tf.argmax(LABELS, axis = 1)\n",
        "  IMAGES.append(_)\n",
        "  L = [DATASET.class_names[label] for label in LABELS_IDX]\n",
        "  TRUE_LABELS.extend(L)\n",
        "\n",
        "# Formatting Predtion Outputs\n",
        "Y_PRED = MODEL.predict(TEST)\n",
        "\n",
        "MAP = {\n",
        "    0: \"Glass\",\n",
        "    1: \"Metal\",\n",
        "    2: \"Plastic\"\n",
        "}\n",
        "Y_PRED = np.argmax(Y_PRED, axis = 1)\n",
        "Y_PRED = [MAP[label] for label in Y_PRED]\n",
        "Y_PRED = np.array(Y_PRED)\n",
        "\n",
        "# Extarting the True Labels\n",
        "Y_TRUE = np.array(TRUE_LABELS)"
      ],
      "metadata": {
        "colab": {
          "base_uri": "https://localhost:8080/"
        },
        "id": "jiytY3-jXi58",
        "outputId": "d640aa14-4a97-458c-fad7-4d422cd0e6f8"
      },
      "execution_count": null,
      "outputs": [
        {
          "output_type": "stream",
          "name": "stdout",
          "text": [
            "6/6 [==============================] - 3s 103ms/step\n"
          ]
        }
      ]
    },
    {
      "cell_type": "code",
      "source": [
        "CM = confusion_matrix(Y_TRUE, Y_PRED)\n",
        "\n",
        "# Plotting CM\n",
        "plt.figure(figsize = (8, 6))\n",
        "sns.heatmap(CM, annot = True, cmap = \"Blues\", fmt = \"g\", cbar = True)\n",
        "plt.title(\"Confusion Matrix\")\n",
        "plt.xlabel(\"Predicted Labels\")\n",
        "plt.ylabel(\"True Labels\")\n",
        "plt.show()"
      ],
      "metadata": {
        "id": "vel3KpdHIkTK",
        "colab": {
          "base_uri": "https://localhost:8080/",
          "height": 581
        },
        "outputId": "ba453ad4-cf8d-4365-c7c7-149dd8321588"
      },
      "execution_count": null,
      "outputs": [
        {
          "output_type": "stream",
          "name": "stdout",
          "text": [
            "6/6 [==============================] - 3s 64ms/step\n"
          ]
        },
        {
          "output_type": "display_data",
          "data": {
            "text/plain": [
              "<Figure size 800x600 with 2 Axes>"
            ],
            "image/png": "[encoded data removed]"
          },
          "metadata": {}
        }
      ]
    },
    {
      "cell_type": "code",
      "source": [
        "fig, axs = plt.subplots(1, 2, figsize=(12, 4))\n",
        "\n",
        "# Accuracy\n",
        "axs[0].plot(HISTORY.history[\"accuracy\"])\n",
        "axs[0].plot(HISTORY.history[\"val_accuracy\"])\n",
        "axs[0].set_title(\"Model's Accuracy\")\n",
        "axs[0].set_ylabel(\"Accuracy\")\n",
        "axs[0].set_xlabel(\"Epoch\")\n",
        "axs[0].legend([\"Train\", \"Validation\"], loc=\"upper left\")\n",
        "axs[0].grid()\n",
        "\n",
        "# Loss\n",
        "axs[1].plot(HISTORY.history[\"loss\"])\n",
        "axs[1].plot(HISTORY.history[\"val_loss\"])\n",
        "axs[1].set_title(\"Model's Loss\")\n",
        "axs[1].set_ylabel(\"Loss\")\n",
        "axs[1].set_xlabel(\"Epoch\")\n",
        "axs[1].legend([\"Train\", \"Validation\"], loc=\"upper right\")\n",
        "axs[1].grid()\n",
        "\n",
        "plt.subplots_adjust(wspace = 0.3)\n",
        "\n",
        "plt.show()"
      ],
      "metadata": {
        "colab": {
          "base_uri": "https://localhost:8080/",
          "height": 410
        },
        "id": "s0mzKnLdGCRX",
        "outputId": "5baa7fe0-6bda-4417-9c60-103cb31ee500"
      },
      "execution_count": null,
      "outputs": [
        {
          "output_type": "display_data",
          "data": {
            "text/plain": [
              "<Figure size 1200x400 with 2 Axes>"
            ],
            "image/png": "[encoded data removed]"
          },
          "metadata": {}
        }
      ]
    }
  ],
  "metadata": {
    "kernelspec": {
      "display_name": "raspenv",
      "language": "python",
      "name": "python3"
    },
    "language_info": {
      "codemirror_mode": {
        "name": "ipython",
        "version": 3
      },
      "file_extension": ".py",
      "mimetype": "text/x-python",
      "name": "python",
      "nbconvert_exporter": "python",
      "pygments_lexer": "ipython3",
      "version": "3.9.16"
    },
    "orig_nbformat": 4,
    "colab": {
      "provenance": [],
      "gpuType": "T4"
    },
    "accelerator": "GPU",
    "gpuClass": "standard"
  },
  "nbformat": 4,
  "nbformat_minor": 0
}